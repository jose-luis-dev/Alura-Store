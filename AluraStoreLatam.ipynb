{
  "nbformat": 4,
  "nbformat_minor": 0,
  "metadata": {
    "colab": {
      "provenance": [],
      "include_colab_link": true
    },
    "kernelspec": {
      "name": "python3",
      "display_name": "Python 3"
    },
    "language_info": {
      "name": "python"
    }
  },
  "cells": [
    {
      "cell_type": "markdown",
      "metadata": {
        "id": "view-in-github",
        "colab_type": "text"
      },
      "source": [
        "<a href=\"https://colab.research.google.com/github/jose-luis-dev/Alura-Store/blob/main/AluraStoreLatam.ipynb\" target=\"_parent\"><img src=\"https://colab.research.google.com/assets/colab-badge.svg\" alt=\"Open In Colab\"/></a>"
      ]
    },
    {
      "cell_type": "markdown",
      "source": [
        "### Importación de datos\n",
        "\n"
      ],
      "metadata": {
        "id": "RhEdWd9YUR6H"
      }
    },
    {
      "cell_type": "code",
      "execution_count": null,
      "metadata": {
        "colab": {
          "base_uri": "https://localhost:8080/",
          "height": 206
        },
        "id": "T3EvaeQ_INIL",
        "outputId": "9f35a103-93cb-41fb-a42e-145e3aac9557"
      },
      "outputs": [
        {
          "output_type": "execute_result",
          "data": {
            "text/plain": [
              "            Producto Categoría del Producto    Precio  Costo de envío  \\\n",
              "0  Asistente virtual           Electrónicos  164300.0          6900.0   \n",
              "1    Mesa de comedor                Muebles  192300.0          8400.0   \n",
              "2      Juego de mesa               Juguetes  209600.0         15900.0   \n",
              "3         Microondas      Electrodomésticos  757500.0         41000.0   \n",
              "4   Silla de oficina                Muebles  335200.0         20200.0   \n",
              "\n",
              "  Fecha de Compra         Vendedor Lugar de Compra  Calificación  \\\n",
              "0      16/01/2021      Pedro Gomez          Bogotá             4   \n",
              "1      18/05/2022  Beatriz Morales        Medellín             1   \n",
              "2      15/03/2021   Juan Fernandez       Cartagena             1   \n",
              "3      03/05/2022   Juan Fernandez            Cali             4   \n",
              "4      07/11/2020    Maria Alfonso        Medellín             5   \n",
              "\n",
              "       Método de pago  Cantidad de cuotas       lat       lon  \n",
              "0  Tarjeta de crédito                   8   4.60971 -74.08175  \n",
              "1  Tarjeta de crédito                   4   6.25184 -75.56359  \n",
              "2  Tarjeta de crédito                   1  10.39972 -75.51444  \n",
              "3               Nequi                   1   3.43722 -76.52250  \n",
              "4               Nequi                   1   6.25184 -75.56359  "
            ],
            "text/html": [
              "\n",
              "  <div id=\"df-3f15c270-ef57-4d05-bd9a-00c61a818e14\" class=\"colab-df-container\">\n",
              "    <div>\n",
              "<style scoped>\n",
              "    .dataframe tbody tr th:only-of-type {\n",
              "        vertical-align: middle;\n",
              "    }\n",
              "\n",
              "    .dataframe tbody tr th {\n",
              "        vertical-align: top;\n",
              "    }\n",
              "\n",
              "    .dataframe thead th {\n",
              "        text-align: right;\n",
              "    }\n",
              "</style>\n",
              "<table border=\"1\" class=\"dataframe\">\n",
              "  <thead>\n",
              "    <tr style=\"text-align: right;\">\n",
              "      <th></th>\n",
              "      <th>Producto</th>\n",
              "      <th>Categoría del Producto</th>\n",
              "      <th>Precio</th>\n",
              "      <th>Costo de envío</th>\n",
              "      <th>Fecha de Compra</th>\n",
              "      <th>Vendedor</th>\n",
              "      <th>Lugar de Compra</th>\n",
              "      <th>Calificación</th>\n",
              "      <th>Método de pago</th>\n",
              "      <th>Cantidad de cuotas</th>\n",
              "      <th>lat</th>\n",
              "      <th>lon</th>\n",
              "    </tr>\n",
              "  </thead>\n",
              "  <tbody>\n",
              "    <tr>\n",
              "      <th>0</th>\n",
              "      <td>Asistente virtual</td>\n",
              "      <td>Electrónicos</td>\n",
              "      <td>164300.0</td>\n",
              "      <td>6900.0</td>\n",
              "      <td>16/01/2021</td>\n",
              "      <td>Pedro Gomez</td>\n",
              "      <td>Bogotá</td>\n",
              "      <td>4</td>\n",
              "      <td>Tarjeta de crédito</td>\n",
              "      <td>8</td>\n",
              "      <td>4.60971</td>\n",
              "      <td>-74.08175</td>\n",
              "    </tr>\n",
              "    <tr>\n",
              "      <th>1</th>\n",
              "      <td>Mesa de comedor</td>\n",
              "      <td>Muebles</td>\n",
              "      <td>192300.0</td>\n",
              "      <td>8400.0</td>\n",
              "      <td>18/05/2022</td>\n",
              "      <td>Beatriz Morales</td>\n",
              "      <td>Medellín</td>\n",
              "      <td>1</td>\n",
              "      <td>Tarjeta de crédito</td>\n",
              "      <td>4</td>\n",
              "      <td>6.25184</td>\n",
              "      <td>-75.56359</td>\n",
              "    </tr>\n",
              "    <tr>\n",
              "      <th>2</th>\n",
              "      <td>Juego de mesa</td>\n",
              "      <td>Juguetes</td>\n",
              "      <td>209600.0</td>\n",
              "      <td>15900.0</td>\n",
              "      <td>15/03/2021</td>\n",
              "      <td>Juan Fernandez</td>\n",
              "      <td>Cartagena</td>\n",
              "      <td>1</td>\n",
              "      <td>Tarjeta de crédito</td>\n",
              "      <td>1</td>\n",
              "      <td>10.39972</td>\n",
              "      <td>-75.51444</td>\n",
              "    </tr>\n",
              "    <tr>\n",
              "      <th>3</th>\n",
              "      <td>Microondas</td>\n",
              "      <td>Electrodomésticos</td>\n",
              "      <td>757500.0</td>\n",
              "      <td>41000.0</td>\n",
              "      <td>03/05/2022</td>\n",
              "      <td>Juan Fernandez</td>\n",
              "      <td>Cali</td>\n",
              "      <td>4</td>\n",
              "      <td>Nequi</td>\n",
              "      <td>1</td>\n",
              "      <td>3.43722</td>\n",
              "      <td>-76.52250</td>\n",
              "    </tr>\n",
              "    <tr>\n",
              "      <th>4</th>\n",
              "      <td>Silla de oficina</td>\n",
              "      <td>Muebles</td>\n",
              "      <td>335200.0</td>\n",
              "      <td>20200.0</td>\n",
              "      <td>07/11/2020</td>\n",
              "      <td>Maria Alfonso</td>\n",
              "      <td>Medellín</td>\n",
              "      <td>5</td>\n",
              "      <td>Nequi</td>\n",
              "      <td>1</td>\n",
              "      <td>6.25184</td>\n",
              "      <td>-75.56359</td>\n",
              "    </tr>\n",
              "  </tbody>\n",
              "</table>\n",
              "</div>\n",
              "    <div class=\"colab-df-buttons\">\n",
              "\n",
              "  <div class=\"colab-df-container\">\n",
              "    <button class=\"colab-df-convert\" onclick=\"convertToInteractive('df-3f15c270-ef57-4d05-bd9a-00c61a818e14')\"\n",
              "            title=\"Convert this dataframe to an interactive table.\"\n",
              "            style=\"display:none;\">\n",
              "\n",
              "  <svg xmlns=\"http://www.w3.org/2000/svg\" height=\"24px\" viewBox=\"0 -960 960 960\">\n",
              "    <path d=\"M120-120v-720h720v720H120Zm60-500h600v-160H180v160Zm220 220h160v-160H400v160Zm0 220h160v-160H400v160ZM180-400h160v-160H180v160Zm440 0h160v-160H620v160ZM180-180h160v-160H180v160Zm440 0h160v-160H620v160Z\"/>\n",
              "  </svg>\n",
              "    </button>\n",
              "\n",
              "  <style>\n",
              "    .colab-df-container {\n",
              "      display:flex;\n",
              "      gap: 12px;\n",
              "    }\n",
              "\n",
              "    .colab-df-convert {\n",
              "      background-color: #E8F0FE;\n",
              "      border: none;\n",
              "      border-radius: 50%;\n",
              "      cursor: pointer;\n",
              "      display: none;\n",
              "      fill: #1967D2;\n",
              "      height: 32px;\n",
              "      padding: 0 0 0 0;\n",
              "      width: 32px;\n",
              "    }\n",
              "\n",
              "    .colab-df-convert:hover {\n",
              "      background-color: #E2EBFA;\n",
              "      box-shadow: 0px 1px 2px rgba(60, 64, 67, 0.3), 0px 1px 3px 1px rgba(60, 64, 67, 0.15);\n",
              "      fill: #174EA6;\n",
              "    }\n",
              "\n",
              "    .colab-df-buttons div {\n",
              "      margin-bottom: 4px;\n",
              "    }\n",
              "\n",
              "    [theme=dark] .colab-df-convert {\n",
              "      background-color: #3B4455;\n",
              "      fill: #D2E3FC;\n",
              "    }\n",
              "\n",
              "    [theme=dark] .colab-df-convert:hover {\n",
              "      background-color: #434B5C;\n",
              "      box-shadow: 0px 1px 3px 1px rgba(0, 0, 0, 0.15);\n",
              "      filter: drop-shadow(0px 1px 2px rgba(0, 0, 0, 0.3));\n",
              "      fill: #FFFFFF;\n",
              "    }\n",
              "  </style>\n",
              "\n",
              "    <script>\n",
              "      const buttonEl =\n",
              "        document.querySelector('#df-3f15c270-ef57-4d05-bd9a-00c61a818e14 button.colab-df-convert');\n",
              "      buttonEl.style.display =\n",
              "        google.colab.kernel.accessAllowed ? 'block' : 'none';\n",
              "\n",
              "      async function convertToInteractive(key) {\n",
              "        const element = document.querySelector('#df-3f15c270-ef57-4d05-bd9a-00c61a818e14');\n",
              "        const dataTable =\n",
              "          await google.colab.kernel.invokeFunction('convertToInteractive',\n",
              "                                                    [key], {});\n",
              "        if (!dataTable) return;\n",
              "\n",
              "        const docLinkHtml = 'Like what you see? Visit the ' +\n",
              "          '<a target=\"_blank\" href=https://colab.research.google.com/notebooks/data_table.ipynb>data table notebook</a>'\n",
              "          + ' to learn more about interactive tables.';\n",
              "        element.innerHTML = '';\n",
              "        dataTable['output_type'] = 'display_data';\n",
              "        await google.colab.output.renderOutput(dataTable, element);\n",
              "        const docLink = document.createElement('div');\n",
              "        docLink.innerHTML = docLinkHtml;\n",
              "        element.appendChild(docLink);\n",
              "      }\n",
              "    </script>\n",
              "  </div>\n",
              "\n",
              "\n",
              "    <div id=\"df-8fd11621-fb3f-41ad-b792-b3470a222e31\">\n",
              "      <button class=\"colab-df-quickchart\" onclick=\"quickchart('df-8fd11621-fb3f-41ad-b792-b3470a222e31')\"\n",
              "                title=\"Suggest charts\"\n",
              "                style=\"display:none;\">\n",
              "\n",
              "<svg xmlns=\"http://www.w3.org/2000/svg\" height=\"24px\"viewBox=\"0 0 24 24\"\n",
              "     width=\"24px\">\n",
              "    <g>\n",
              "        <path d=\"M19 3H5c-1.1 0-2 .9-2 2v14c0 1.1.9 2 2 2h14c1.1 0 2-.9 2-2V5c0-1.1-.9-2-2-2zM9 17H7v-7h2v7zm4 0h-2V7h2v10zm4 0h-2v-4h2v4z\"/>\n",
              "    </g>\n",
              "</svg>\n",
              "      </button>\n",
              "\n",
              "<style>\n",
              "  .colab-df-quickchart {\n",
              "      --bg-color: #E8F0FE;\n",
              "      --fill-color: #1967D2;\n",
              "      --hover-bg-color: #E2EBFA;\n",
              "      --hover-fill-color: #174EA6;\n",
              "      --disabled-fill-color: #AAA;\n",
              "      --disabled-bg-color: #DDD;\n",
              "  }\n",
              "\n",
              "  [theme=dark] .colab-df-quickchart {\n",
              "      --bg-color: #3B4455;\n",
              "      --fill-color: #D2E3FC;\n",
              "      --hover-bg-color: #434B5C;\n",
              "      --hover-fill-color: #FFFFFF;\n",
              "      --disabled-bg-color: #3B4455;\n",
              "      --disabled-fill-color: #666;\n",
              "  }\n",
              "\n",
              "  .colab-df-quickchart {\n",
              "    background-color: var(--bg-color);\n",
              "    border: none;\n",
              "    border-radius: 50%;\n",
              "    cursor: pointer;\n",
              "    display: none;\n",
              "    fill: var(--fill-color);\n",
              "    height: 32px;\n",
              "    padding: 0;\n",
              "    width: 32px;\n",
              "  }\n",
              "\n",
              "  .colab-df-quickchart:hover {\n",
              "    background-color: var(--hover-bg-color);\n",
              "    box-shadow: 0 1px 2px rgba(60, 64, 67, 0.3), 0 1px 3px 1px rgba(60, 64, 67, 0.15);\n",
              "    fill: var(--button-hover-fill-color);\n",
              "  }\n",
              "\n",
              "  .colab-df-quickchart-complete:disabled,\n",
              "  .colab-df-quickchart-complete:disabled:hover {\n",
              "    background-color: var(--disabled-bg-color);\n",
              "    fill: var(--disabled-fill-color);\n",
              "    box-shadow: none;\n",
              "  }\n",
              "\n",
              "  .colab-df-spinner {\n",
              "    border: 2px solid var(--fill-color);\n",
              "    border-color: transparent;\n",
              "    border-bottom-color: var(--fill-color);\n",
              "    animation:\n",
              "      spin 1s steps(1) infinite;\n",
              "  }\n",
              "\n",
              "  @keyframes spin {\n",
              "    0% {\n",
              "      border-color: transparent;\n",
              "      border-bottom-color: var(--fill-color);\n",
              "      border-left-color: var(--fill-color);\n",
              "    }\n",
              "    20% {\n",
              "      border-color: transparent;\n",
              "      border-left-color: var(--fill-color);\n",
              "      border-top-color: var(--fill-color);\n",
              "    }\n",
              "    30% {\n",
              "      border-color: transparent;\n",
              "      border-left-color: var(--fill-color);\n",
              "      border-top-color: var(--fill-color);\n",
              "      border-right-color: var(--fill-color);\n",
              "    }\n",
              "    40% {\n",
              "      border-color: transparent;\n",
              "      border-right-color: var(--fill-color);\n",
              "      border-top-color: var(--fill-color);\n",
              "    }\n",
              "    60% {\n",
              "      border-color: transparent;\n",
              "      border-right-color: var(--fill-color);\n",
              "    }\n",
              "    80% {\n",
              "      border-color: transparent;\n",
              "      border-right-color: var(--fill-color);\n",
              "      border-bottom-color: var(--fill-color);\n",
              "    }\n",
              "    90% {\n",
              "      border-color: transparent;\n",
              "      border-bottom-color: var(--fill-color);\n",
              "    }\n",
              "  }\n",
              "</style>\n",
              "\n",
              "      <script>\n",
              "        async function quickchart(key) {\n",
              "          const quickchartButtonEl =\n",
              "            document.querySelector('#' + key + ' button');\n",
              "          quickchartButtonEl.disabled = true;  // To prevent multiple clicks.\n",
              "          quickchartButtonEl.classList.add('colab-df-spinner');\n",
              "          try {\n",
              "            const charts = await google.colab.kernel.invokeFunction(\n",
              "                'suggestCharts', [key], {});\n",
              "          } catch (error) {\n",
              "            console.error('Error during call to suggestCharts:', error);\n",
              "          }\n",
              "          quickchartButtonEl.classList.remove('colab-df-spinner');\n",
              "          quickchartButtonEl.classList.add('colab-df-quickchart-complete');\n",
              "        }\n",
              "        (() => {\n",
              "          let quickchartButtonEl =\n",
              "            document.querySelector('#df-8fd11621-fb3f-41ad-b792-b3470a222e31 button');\n",
              "          quickchartButtonEl.style.display =\n",
              "            google.colab.kernel.accessAllowed ? 'block' : 'none';\n",
              "        })();\n",
              "      </script>\n",
              "    </div>\n",
              "\n",
              "    </div>\n",
              "  </div>\n"
            ],
            "application/vnd.google.colaboratory.intrinsic+json": {
              "type": "dataframe",
              "variable_name": "tienda",
              "summary": "{\n  \"name\": \"tienda\",\n  \"rows\": 2359,\n  \"fields\": [\n    {\n      \"column\": \"Producto\",\n      \"properties\": {\n        \"dtype\": \"category\",\n        \"num_unique_values\": 51,\n        \"samples\": [\n          \"Guitarra ac\\u00fastica\",\n          \"Bal\\u00f3n de baloncesto\",\n          \"Smartwatch\"\n        ],\n        \"semantic_type\": \"\",\n        \"description\": \"\"\n      }\n    },\n    {\n      \"column\": \"Categor\\u00eda del Producto\",\n      \"properties\": {\n        \"dtype\": \"category\",\n        \"num_unique_values\": 8,\n        \"samples\": [\n          \"Muebles\",\n          \"Deportes y diversi\\u00f3n\",\n          \"Electr\\u00f3nicos\"\n        ],\n        \"semantic_type\": \"\",\n        \"description\": \"\"\n      }\n    },\n    {\n      \"column\": \"Precio\",\n      \"properties\": {\n        \"dtype\": \"number\",\n        \"std\": 614686.7653873172,\n        \"min\": 7600.0,\n        \"max\": 2977000.0,\n        \"num_unique_values\": 1937,\n        \"samples\": [\n          2499400.0,\n          14800.0,\n          80500.0\n        ],\n        \"semantic_type\": \"\",\n        \"description\": \"\"\n      }\n    },\n    {\n      \"column\": \"Costo de env\\u00edo\",\n      \"properties\": {\n        \"dtype\": \"number\",\n        \"std\": 32860.0017825605,\n        \"min\": 0.0,\n        \"max\": 160800.0,\n        \"num_unique_values\": 753,\n        \"samples\": [\n          117800.0,\n          54700.0,\n          45600.0\n        ],\n        \"semantic_type\": \"\",\n        \"description\": \"\"\n      }\n    },\n    {\n      \"column\": \"Fecha de Compra\",\n      \"properties\": {\n        \"dtype\": \"object\",\n        \"num_unique_values\": 1018,\n        \"samples\": [\n          \"15/09/2022\",\n          \"03/06/2020\",\n          \"06/11/2021\"\n        ],\n        \"semantic_type\": \"\",\n        \"description\": \"\"\n      }\n    },\n    {\n      \"column\": \"Vendedor\",\n      \"properties\": {\n        \"dtype\": \"category\",\n        \"num_unique_values\": 14,\n        \"samples\": [\n          \"Juliana Costa\",\n          \"Mariana Herrera\",\n          \"Pedro Gomez\"\n        ],\n        \"semantic_type\": \"\",\n        \"description\": \"\"\n      }\n    },\n    {\n      \"column\": \"Lugar de Compra\",\n      \"properties\": {\n        \"dtype\": \"category\",\n        \"num_unique_values\": 19,\n        \"samples\": [\n          \"Bogot\\u00e1\",\n          \"Pereira\",\n          \"Neiva\"\n        ],\n        \"semantic_type\": \"\",\n        \"description\": \"\"\n      }\n    },\n    {\n      \"column\": \"Calificaci\\u00f3n\",\n      \"properties\": {\n        \"dtype\": \"number\",\n        \"std\": 1,\n        \"min\": 1,\n        \"max\": 5,\n        \"num_unique_values\": 5,\n        \"samples\": [\n          1,\n          2,\n          5\n        ],\n        \"semantic_type\": \"\",\n        \"description\": \"\"\n      }\n    },\n    {\n      \"column\": \"M\\u00e9todo de pago\",\n      \"properties\": {\n        \"dtype\": \"category\",\n        \"num_unique_values\": 4,\n        \"samples\": [\n          \"Nequi\",\n          \"Tarjeta de d\\u00e9bito\",\n          \"Tarjeta de cr\\u00e9dito\"\n        ],\n        \"semantic_type\": \"\",\n        \"description\": \"\"\n      }\n    },\n    {\n      \"column\": \"Cantidad de cuotas\",\n      \"properties\": {\n        \"dtype\": \"number\",\n        \"std\": 2,\n        \"min\": 1,\n        \"max\": 24,\n        \"num_unique_values\": 15,\n        \"samples\": [\n          7,\n          14,\n          8\n        ],\n        \"semantic_type\": \"\",\n        \"description\": \"\"\n      }\n    },\n    {\n      \"column\": \"lat\",\n      \"properties\": {\n        \"dtype\": \"number\",\n        \"std\": 2.2874452492678627,\n        \"min\": -4.21528,\n        \"max\": 11.54444,\n        \"num_unique_values\": 19,\n        \"samples\": [\n          4.60971,\n          4.81333,\n          2.9273\n        ],\n        \"semantic_type\": \"\",\n        \"description\": \"\"\n      }\n    },\n    {\n      \"column\": \"lon\",\n      \"properties\": {\n        \"dtype\": \"number\",\n        \"std\": 1.2178272727088486,\n        \"min\": -77.28111,\n        \"max\": -67.9239,\n        \"num_unique_values\": 19,\n        \"samples\": [\n          -74.08175,\n          -75.69611,\n          -75.28189\n        ],\n        \"semantic_type\": \"\",\n        \"description\": \"\"\n      }\n    }\n  ]\n}"
            }
          },
          "metadata": {},
          "execution_count": 5
        }
      ],
      "source": [
        "import pandas as pd\n",
        "\n",
        "url = \"https://raw.githubusercontent.com/alura-es-cursos/challenge1-data-science-latam/refs/heads/main/base-de-datos-challenge1-latam/tienda_1%20.csv\"\n",
        "url2 = \"https://raw.githubusercontent.com/alura-es-cursos/challenge1-data-science-latam/refs/heads/main/base-de-datos-challenge1-latam/tienda_2.csv\"\n",
        "url3 = \"https://raw.githubusercontent.com/alura-es-cursos/challenge1-data-science-latam/refs/heads/main/base-de-datos-challenge1-latam/tienda_3.csv\"\n",
        "url4 = \"https://raw.githubusercontent.com/alura-es-cursos/challenge1-data-science-latam/refs/heads/main/base-de-datos-challenge1-latam/tienda_4.csv\"\n",
        "\n",
        "tienda = pd.read_csv(url)\n",
        "tienda2 = pd.read_csv(url2)\n",
        "tienda3 = pd.read_csv(url3)\n",
        "tienda4 = pd.read_csv(url4)\n",
        "\n",
        "tienda.head()"
      ]
    },
    {
      "cell_type": "markdown",
      "source": [
        "#1. Análisis de facturación\n",
        "\n"
      ],
      "metadata": {
        "id": "X62IW3KFUIYm"
      }
    },
    {
      "cell_type": "code",
      "source": [
        "# Calcular el ingreso total de cada tienda. Sumando los valores de la columna Precio.\n",
        "\n",
        "ingreso_tienda1 = tienda[\"Precio\"].sum()\n",
        "ingreso_tienda2 = tienda2[\"Precio\"].sum()\n",
        "ingreso_tienda3 = tienda3[\"Precio\"].sum()\n",
        "ingreso_tienda4 = tienda4[\"Precio\"].sum()\n",
        "\n",
        "print(f\"Precio total tienda 1: ${ingreso_tienda1:,.2f}\")\n",
        "print(f\"Precio total tienda 2: ${ingreso_tienda2:,.2f}\")\n",
        "print(f\"Precio total tienda 3: ${ingreso_tienda3:,.2f}\")\n",
        "print(f\"Precio total tienda 4: ${ingreso_tienda4:,.2f}\")"
      ],
      "metadata": {
        "colab": {
          "base_uri": "https://localhost:8080/"
        },
        "id": "2aPmJD4pGb8U",
        "outputId": "8c430a97-f00c-4945-a868-438acddb1b2a"
      },
      "execution_count": null,
      "outputs": [
        {
          "output_type": "stream",
          "name": "stdout",
          "text": [
            "Precio total tienda 1: $1,150,880,400.00\n",
            "Precio total tienda 2: $1,116,343,500.00\n",
            "Precio total tienda 3: $1,098,019,600.00\n",
            "Precio total tienda 4: $1,038,375,700.00\n"
          ]
        }
      ]
    },
    {
      "cell_type": "code",
      "source": [
        "Ingreso_Total = ingreso_tienda1 + ingreso_tienda2 + ingreso_tienda3 + ingreso_tienda4\n",
        "print(f\"Precio total de todas las tiendas: ${Ingreso_Total:,.2f}\")"
      ],
      "metadata": {
        "id": "KDyr8E71V3m-",
        "colab": {
          "base_uri": "https://localhost:8080/"
        },
        "outputId": "9f204b49-e0cd-4051-a022-96a43dae316e"
      },
      "execution_count": null,
      "outputs": [
        {
          "output_type": "stream",
          "name": "stdout",
          "text": [
            "Precio total de todas las tiendas: $4,403,619,200.00\n"
          ]
        }
      ]
    },
    {
      "cell_type": "markdown",
      "source": [
        "# 2. Ventas por categoría"
      ],
      "metadata": {
        "id": "2V_vcAPzWZmR"
      }
    },
    {
      "cell_type": "code",
      "source": [
        "tiendas = [tienda, tienda2, tienda3, tienda4]\n",
        "\n",
        "for i, t in enumerate(tiendas):\n",
        "  print(f\"Tienda {i+1}\")\n",
        "  print(\"------------------------------------\")\n",
        "  print(t.groupby(\"Categoría del Producto\").size().sort_values(ascending=False))\n",
        "  print(\"------------------------------------\")"
      ],
      "metadata": {
        "id": "yZR6cOjXYSk1",
        "colab": {
          "base_uri": "https://localhost:8080/"
        },
        "outputId": "df24f088-9643-4c02-e2f9-527f89a5e5f9"
      },
      "execution_count": null,
      "outputs": [
        {
          "output_type": "stream",
          "name": "stdout",
          "text": [
            "Tienda 1\n",
            "------------------------------------\n",
            "Categoría del Producto\n",
            "Muebles                    465\n",
            "Electrónicos               448\n",
            "Juguetes                   324\n",
            "Electrodomésticos          312\n",
            "Deportes y diversión       284\n",
            "Instrumentos musicales     182\n",
            "Libros                     173\n",
            "Artículos para el hogar    171\n",
            "dtype: int64\n",
            "------------------------------------\n",
            "Tienda 2\n",
            "------------------------------------\n",
            "Categoría del Producto\n",
            "Muebles                    442\n",
            "Electrónicos               422\n",
            "Juguetes                   313\n",
            "Electrodomésticos          305\n",
            "Deportes y diversión       275\n",
            "Instrumentos musicales     224\n",
            "Libros                     197\n",
            "Artículos para el hogar    181\n",
            "dtype: int64\n",
            "------------------------------------\n",
            "Tienda 3\n",
            "------------------------------------\n",
            "Categoría del Producto\n",
            "Muebles                    499\n",
            "Electrónicos               451\n",
            "Juguetes                   315\n",
            "Electrodomésticos          278\n",
            "Deportes y diversión       277\n",
            "Libros                     185\n",
            "Artículos para el hogar    177\n",
            "Instrumentos musicales     177\n",
            "dtype: int64\n",
            "------------------------------------\n",
            "Tienda 4\n",
            "------------------------------------\n",
            "Categoría del Producto\n",
            "Muebles                    480\n",
            "Electrónicos               451\n",
            "Juguetes                   338\n",
            "Deportes y diversión       277\n",
            "Electrodomésticos          254\n",
            "Artículos para el hogar    201\n",
            "Libros                     187\n",
            "Instrumentos musicales     170\n",
            "dtype: int64\n",
            "------------------------------------\n"
          ]
        }
      ]
    },
    {
      "cell_type": "markdown",
      "source": [
        "# 3. Calificación promedio de la tienda\n"
      ],
      "metadata": {
        "id": "Rq6tU_xSY3jk"
      }
    },
    {
      "cell_type": "code",
      "source": [
        "# Calcular las calificaciones promedio de los clientes para cada tienda. El objetivo es conocer la satisfacción del cliente con los productos vendidos.\n",
        "\n",
        "datos = pd.DataFrame({\n",
        "    \"Tienda\": [\"Tienda 1\", \"Tienda 2\", \"Tienda 3\", \"Tienda 4\"],\n",
        "    \"Calificación promedio\": [tienda[\"Calificación\"].mean(), tienda2[\"Calificación\"].mean(), tienda3[\"Calificación\"].mean(), tienda4[\"Calificación\"].mean()]\n",
        "})\n",
        "\n",
        "datos.style.set_caption(\"Calificaciones Promedio por Tienda\").format({\"Calificación promedio\": \"{:.2f}\"})"
      ],
      "metadata": {
        "id": "bh3jjjJwY5MU",
        "colab": {
          "base_uri": "https://localhost:8080/",
          "height": 192
        },
        "outputId": "5dbe9304-53a3-4885-f060-bf7d27a2d40c"
      },
      "execution_count": null,
      "outputs": [
        {
          "output_type": "execute_result",
          "data": {
            "text/plain": [
              "<pandas.io.formats.style.Styler at 0x7b5079fb05d0>"
            ],
            "text/html": [
              "<style type=\"text/css\">\n",
              "</style>\n",
              "<table id=\"T_1f4d5\" class=\"dataframe\">\n",
              "  <caption>Calificaciones Promedio por Tienda</caption>\n",
              "  <thead>\n",
              "    <tr>\n",
              "      <th class=\"blank level0\" >&nbsp;</th>\n",
              "      <th id=\"T_1f4d5_level0_col0\" class=\"col_heading level0 col0\" >Tienda</th>\n",
              "      <th id=\"T_1f4d5_level0_col1\" class=\"col_heading level0 col1\" >Calificación promedio</th>\n",
              "    </tr>\n",
              "  </thead>\n",
              "  <tbody>\n",
              "    <tr>\n",
              "      <th id=\"T_1f4d5_level0_row0\" class=\"row_heading level0 row0\" >0</th>\n",
              "      <td id=\"T_1f4d5_row0_col0\" class=\"data row0 col0\" >Tienda 1</td>\n",
              "      <td id=\"T_1f4d5_row0_col1\" class=\"data row0 col1\" >3.98</td>\n",
              "    </tr>\n",
              "    <tr>\n",
              "      <th id=\"T_1f4d5_level0_row1\" class=\"row_heading level0 row1\" >1</th>\n",
              "      <td id=\"T_1f4d5_row1_col0\" class=\"data row1 col0\" >Tienda 2</td>\n",
              "      <td id=\"T_1f4d5_row1_col1\" class=\"data row1 col1\" >4.04</td>\n",
              "    </tr>\n",
              "    <tr>\n",
              "      <th id=\"T_1f4d5_level0_row2\" class=\"row_heading level0 row2\" >2</th>\n",
              "      <td id=\"T_1f4d5_row2_col0\" class=\"data row2 col0\" >Tienda 3</td>\n",
              "      <td id=\"T_1f4d5_row2_col1\" class=\"data row2 col1\" >4.05</td>\n",
              "    </tr>\n",
              "    <tr>\n",
              "      <th id=\"T_1f4d5_level0_row3\" class=\"row_heading level0 row3\" >3</th>\n",
              "      <td id=\"T_1f4d5_row3_col0\" class=\"data row3 col0\" >Tienda 4</td>\n",
              "      <td id=\"T_1f4d5_row3_col1\" class=\"data row3 col1\" >4.00</td>\n",
              "    </tr>\n",
              "  </tbody>\n",
              "</table>\n"
            ]
          },
          "metadata": {},
          "execution_count": 56
        }
      ]
    },
    {
      "cell_type": "code",
      "source": [],
      "metadata": {
        "id": "I0KkjPoTY88F"
      },
      "execution_count": null,
      "outputs": []
    },
    {
      "cell_type": "markdown",
      "source": [
        "# 4. Productos más y menos vendidos"
      ],
      "metadata": {
        "id": "DmNp1KPBZCm-"
      }
    },
    {
      "cell_type": "code",
      "source": [
        "# Identificar que productos fueron los más vendidos y los menos vendidos en cada tienda. Visualiza los resultados que productos destacaron en ventas en cada tienda.\n",
        "# Identificar que productos fueron los más vendidos y los menos vendidos en cada tienda. Visualiza los resultados que productos destacaron en ventas en cada tienda.\n",
        "\n",
        "import pandas as pd\n",
        "\n",
        "datos1 = pd.DataFrame({\n",
        "    \"Tienda\": [\"Tienda 1\", \"Tienda 2\", \"Tienda 3\", \"Tienda 4\"],\n",
        "    \"Producto más vendido\": [\n",
        "        f\"{tienda['Producto'].value_counts().idxmax()} ({tienda['Producto'].value_counts().max()} ventas)\",\n",
        "        f\"{tienda2['Producto'].value_counts().idxmax()} ({tienda2['Producto'].value_counts().max()} ventas)\",\n",
        "        f\"{tienda3['Producto'].value_counts().idxmax()} ({tienda3['Producto'].value_counts().max()} ventas)\",\n",
        "        f\"{tienda4['Producto'].value_counts().idxmax()} ({tienda4['Producto'].value_counts().max()} ventas)\"\n",
        "    ],\n",
        "    \"Producto menos vendido\": [\n",
        "        f\"{tienda['Producto'].value_counts().idxmin()} ({tienda['Producto'].value_counts().min()} ventas)\",\n",
        "        f\"{tienda2['Producto'].value_counts().idxmin()} ({tienda2['Producto'].value_counts().min()} ventas)\",\n",
        "        f\"{tienda3['Producto'].value_counts().idxmin()} ({tienda3['Producto'].value_counts().min()} ventas)\",\n",
        "        f\"{tienda4['Producto'].value_counts().idxmin()} ({tienda4['Producto'].value_counts().min()} ventas)\"\n",
        "    ]\n",
        "})\n",
        "\n",
        "# Mostrar la tabla con estilo\n",
        "datos1.style.set_caption(\"Productos más y menos vendidos por Tienda\")\n"
      ],
      "metadata": {
        "id": "0Sw3sd4IZIGW",
        "colab": {
          "base_uri": "https://localhost:8080/",
          "height": 192
        },
        "outputId": "ed64b77b-55dc-49d4-d115-3752b0beafaa"
      },
      "execution_count": null,
      "outputs": [
        {
          "output_type": "execute_result",
          "data": {
            "text/plain": [
              "<pandas.io.formats.style.Styler at 0x7b507097dd10>"
            ],
            "text/html": [
              "<style type=\"text/css\">\n",
              "</style>\n",
              "<table id=\"T_3af29\" class=\"dataframe\">\n",
              "  <caption>Productos más y menos vendidos por Tienda</caption>\n",
              "  <thead>\n",
              "    <tr>\n",
              "      <th class=\"blank level0\" >&nbsp;</th>\n",
              "      <th id=\"T_3af29_level0_col0\" class=\"col_heading level0 col0\" >Tienda</th>\n",
              "      <th id=\"T_3af29_level0_col1\" class=\"col_heading level0 col1\" >Producto más vendido</th>\n",
              "      <th id=\"T_3af29_level0_col2\" class=\"col_heading level0 col2\" >Producto menos vendido</th>\n",
              "    </tr>\n",
              "  </thead>\n",
              "  <tbody>\n",
              "    <tr>\n",
              "      <th id=\"T_3af29_level0_row0\" class=\"row_heading level0 row0\" >0</th>\n",
              "      <td id=\"T_3af29_row0_col0\" class=\"data row0 col0\" >Tienda 1</td>\n",
              "      <td id=\"T_3af29_row0_col1\" class=\"data row0 col1\" >Microondas (60 ventas)</td>\n",
              "      <td id=\"T_3af29_row0_col2\" class=\"data row0 col2\" >Auriculares con micrófono (33 ventas)</td>\n",
              "    </tr>\n",
              "    <tr>\n",
              "      <th id=\"T_3af29_level0_row1\" class=\"row_heading level0 row1\" >1</th>\n",
              "      <td id=\"T_3af29_row1_col0\" class=\"data row1 col0\" >Tienda 2</td>\n",
              "      <td id=\"T_3af29_row1_col1\" class=\"data row1 col1\" >Iniciando en programación (65 ventas)</td>\n",
              "      <td id=\"T_3af29_row1_col2\" class=\"data row1 col2\" >Juego de mesa (32 ventas)</td>\n",
              "    </tr>\n",
              "    <tr>\n",
              "      <th id=\"T_3af29_level0_row2\" class=\"row_heading level0 row2\" >2</th>\n",
              "      <td id=\"T_3af29_row2_col0\" class=\"data row2 col0\" >Tienda 3</td>\n",
              "      <td id=\"T_3af29_row2_col1\" class=\"data row2 col1\" >Kit de bancas (57 ventas)</td>\n",
              "      <td id=\"T_3af29_row2_col2\" class=\"data row2 col2\" >Bloques de construcción (35 ventas)</td>\n",
              "    </tr>\n",
              "    <tr>\n",
              "      <th id=\"T_3af29_level0_row3\" class=\"row_heading level0 row3\" >3</th>\n",
              "      <td id=\"T_3af29_row3_col0\" class=\"data row3 col0\" >Tienda 4</td>\n",
              "      <td id=\"T_3af29_row3_col1\" class=\"data row3 col1\" >Cama box (62 ventas)</td>\n",
              "      <td id=\"T_3af29_row3_col2\" class=\"data row3 col2\" >Guitarra eléctrica (33 ventas)</td>\n",
              "    </tr>\n",
              "  </tbody>\n",
              "</table>\n"
            ]
          },
          "metadata": {},
          "execution_count": 75
        }
      ]
    },
    {
      "cell_type": "markdown",
      "source": [
        "# 5. Envío promedio por tienda"
      ],
      "metadata": {
        "id": "Fl0cGi3bZKqU"
      }
    },
    {
      "cell_type": "code",
      "source": [
        "# Calcular el costo de envio promedio para cada tienda. El objetivo es comprender cuanto gasta, promedio, en el envio de cada tienda.\n",
        "\n",
        "import pandas as pd\n",
        "\n",
        "enviosPromedio = pd.DataFrame({\n",
        "    \"Tienda\": [\"Tienda 1\", \"Tienda 2\", \"Tienda 3\", \"Tienda 4\"],\n",
        "    \"Costo de envío promedio\": [\n",
        "        tienda[\"Costo de envío\"].mean(),\n",
        "        tienda2[\"Costo de envío\"].mean(),\n",
        "        tienda3[\"Costo de envío\"].mean(),\n",
        "        tienda4[\"Costo de envío\"].mean()\n",
        "    ]\n",
        "})\n",
        "\n",
        "# Mostrar la tabla con estilo\n",
        "enviosPromedio.style.set_caption(\"Costo de envío promedio por Tienda\").format({\"Costo de envío promedio\": \"${:.2f}\"})\n",
        "\n",
        "\n"
      ],
      "metadata": {
        "id": "S2JeaCykZNy9",
        "colab": {
          "base_uri": "https://localhost:8080/",
          "height": 192
        },
        "outputId": "7cd5b24f-1cc3-47b4-c4bd-87b4625b482b"
      },
      "execution_count": null,
      "outputs": [
        {
          "output_type": "execute_result",
          "data": {
            "text/plain": [
              "<pandas.io.formats.style.Styler at 0x7bba5426fc10>"
            ],
            "text/html": [
              "<style type=\"text/css\">\n",
              "</style>\n",
              "<table id=\"T_35bd7\" class=\"dataframe\">\n",
              "  <caption>Costo de envío promedio por Tienda</caption>\n",
              "  <thead>\n",
              "    <tr>\n",
              "      <th class=\"blank level0\" >&nbsp;</th>\n",
              "      <th id=\"T_35bd7_level0_col0\" class=\"col_heading level0 col0\" >Tienda</th>\n",
              "      <th id=\"T_35bd7_level0_col1\" class=\"col_heading level0 col1\" >Costo de envío promedio</th>\n",
              "    </tr>\n",
              "  </thead>\n",
              "  <tbody>\n",
              "    <tr>\n",
              "      <th id=\"T_35bd7_level0_row0\" class=\"row_heading level0 row0\" >0</th>\n",
              "      <td id=\"T_35bd7_row0_col0\" class=\"data row0 col0\" >Tienda 1</td>\n",
              "      <td id=\"T_35bd7_row0_col1\" class=\"data row0 col1\" >$26018.61</td>\n",
              "    </tr>\n",
              "    <tr>\n",
              "      <th id=\"T_35bd7_level0_row1\" class=\"row_heading level0 row1\" >1</th>\n",
              "      <td id=\"T_35bd7_row1_col0\" class=\"data row1 col0\" >Tienda 2</td>\n",
              "      <td id=\"T_35bd7_row1_col1\" class=\"data row1 col1\" >$25216.24</td>\n",
              "    </tr>\n",
              "    <tr>\n",
              "      <th id=\"T_35bd7_level0_row2\" class=\"row_heading level0 row2\" >2</th>\n",
              "      <td id=\"T_35bd7_row2_col0\" class=\"data row2 col0\" >Tienda 3</td>\n",
              "      <td id=\"T_35bd7_row2_col1\" class=\"data row2 col1\" >$24805.68</td>\n",
              "    </tr>\n",
              "    <tr>\n",
              "      <th id=\"T_35bd7_level0_row3\" class=\"row_heading level0 row3\" >3</th>\n",
              "      <td id=\"T_35bd7_row3_col0\" class=\"data row3 col0\" >Tienda 4</td>\n",
              "      <td id=\"T_35bd7_row3_col1\" class=\"data row3 col1\" >$23459.46</td>\n",
              "    </tr>\n",
              "  </tbody>\n",
              "</table>\n"
            ]
          },
          "metadata": {},
          "execution_count": 26
        }
      ]
    },
    {
      "cell_type": "code",
      "source": [
        "import matplotlib.pyplot as plt\n",
        "\n",
        "ingresos = [tienda[\"Precio\"].sum(), tienda2[\"Precio\"].sum(), tienda3[\"Precio\"].sum(), tienda4[\"Precio\"].sum()]\n",
        "tiendas = [\"Tienda 1\", \"Tienda 2\", \"Tienda 3\", \"Tienda 4\" ]\n",
        "\n",
        "plt.figure(figsize=(8,5))\n",
        "plt.bar(tiendas, ingresos, color = \"green\")\n",
        "plt.title(\"Ingresos Totales por Tienda\")\n",
        "plt.xlabel(\"Ingresos en $\")\n",
        "plt.ylabel(\"Tiendas\")\n",
        "plt.tight_layout()\n",
        "plt.show()\n"
      ],
      "metadata": {
        "id": "0tSdCie9ZQlt",
        "colab": {
          "base_uri": "https://localhost:8080/",
          "height": 507
        },
        "outputId": "411bdc40-650f-4f66-ae77-60b7526e1bf2"
      },
      "execution_count": 29,
      "outputs": [
        {
          "output_type": "display_data",
          "data": {
            "text/plain": [
              "<Figure size 800x500 with 1 Axes>"
            ],
            "image/png": "[encoded data removed]"
          },
          "metadata": {}
        }
      ]
    },
    {
      "cell_type": "code",
      "source": [
        "import matplotlib.pyplot as plt\n",
        "\n",
        "calificaciones = [tienda[\"Calificación\"].mean(), tienda2[\"Calificación\"].mean(),\n",
        "                  tienda3[\"Calificación\"].mean(), tienda4[\"Calificación\"].mean()]\n",
        "\n",
        "plt.figure(figsize=(8,5))\n",
        "plt.plot(tiendas, calificaciones, marker=\"o\", linestyle=\"-\", color=\"blue\")\n",
        "plt.title(\"Calificaciones Promedio por Tienda\")\n",
        "plt.ylabel(\"Calificación (1-5)\")\n",
        "plt.xlabel(\"Tiendas\")\n",
        "plt.ylim(0, 5)\n",
        "plt.grid(True)\n",
        "plt.tight_layout()\n",
        "plt.show()"
      ],
      "metadata": {
        "colab": {
          "base_uri": "https://localhost:8080/",
          "height": 507
        },
        "id": "tNGogQ82pkw3",
        "outputId": "290d1521-b906-4c18-bbf2-9ec1e49f495b"
      },
      "execution_count": 33,
      "outputs": [
        {
          "output_type": "display_data",
          "data": {
            "text/plain": [
              "<Figure size 800x500 with 1 Axes>"
            ],
            "image/png": "[encoded data removed]"
          },
          "metadata": {}
        }
      ]
    },
    {
      "cell_type": "code",
      "source": [
        "import matplotlib.pyplot as plt\n",
        "\n",
        "categorias = tienda[\"Categoría del Producto\"].value_counts()\n",
        "plt.figure(figsize=(7,7))\n",
        "plt.pie(categorias, labels = categorias.index, autopct=\"%1.1f%%\", startangle=140)\n",
        "plt.title(\"Distribución de categorías - Tienda 1\")\n",
        "plt.axis(\"equal\")\n",
        "plt.show()\n"
      ],
      "metadata": {
        "colab": {
          "base_uri": "https://localhost:8080/",
          "height": 598
        },
        "id": "4d20IBjergAn",
        "outputId": "f4007687-d4f1-41c5-8721-0d45ed312f18"
      },
      "execution_count": 37,
      "outputs": [
        {
          "output_type": "display_data",
          "data": {
            "text/plain": [
              "<Figure size 700x700 with 1 Axes>"
            ],
            "image/png": "[encoded data removed]"
          },
          "metadata": {}
        }
      ]
    },
    {
      "cell_type": "markdown",
      "source": [
        "# **Informe Final – Recomendación de Tienda para el Sr. Juan**\n",
        "\n",
        "## Introducción\n",
        "\n",
        "Con el objetivo de identificar la tienda más adecuada para que el Sr. Juan comercialice sus productos, se ha realizado un análisis detallado de los datos de ventas, calificaciones de clientes y costos logísticos de cuatro tiendas virtuales. Este estudio busca identificar cuál de ellas ofrece las mejores condiciones de mercado en términos de ingresos, rotación de productos, satisfacción del cliente y costos operativos.\n",
        "\n",
        "**Desarrollo del Análisis**\n",
        "1. Ingresos Totales por Tienda\n",
        "Tras sumar los valores de la columna \"Precio\" para cada tienda, se obtuvo el ingreso total. Esta métrica nos permitió observar qué tienda tuvo el mayor volumen de ventas monetarias.\n",
        "\n",
        "**Gráfico de barras: Comparación de ingresos por tienda.**\n",
        "\n",
        "2. Categorías de Productos Más Vendidas\n",
        "Se agruparon los datos por \"Categoría del Producto\" para identificar las categorías más populares y las menos vendidas por tienda.\n",
        "\n",
        "Esto nos permitió comprender las preferencias de los clientes y evaluar si el producto del Sr. Juan encajaría con el perfil del público objetivo de cada tienda.\n",
        "\n",
        "3. Calificaciones Promedio de los Clientes\n",
        "Se calculó el promedio de la columna \"Calificación\" en cada tienda, como indicador del nivel de satisfacción del cliente.\n",
        "\n",
        "**Gráfico de líneas o barras: Comparación de calificaciones promedio.**\n",
        "\n",
        "4. Productos Más y Menos Vendidos\n",
        "Se analizaron los productos más vendidos y los que tuvieron menor rotación en cada tienda, para identificar tendencias y demandas específicas.\n",
        "\n",
        "Esto ayuda a visualizar el dinamismo del catálogo de cada tienda.\n",
        "\n",
        "5. Costos de Envío Promedio\n",
        "Se analizó la columna \"Costo de Envío\" para estimar cuánto se invierte, en promedio, en logística por cada tienda.\n",
        "\n",
        "**Gráfico de dispersión o barras: Comparación de costos logísticos.**\n",
        "\n",
        "Conclusión y Recomendación\n",
        "\n",
        "Con base en los análisis anteriores, se recomienda que el Sr. Juan venda sus productos en [Tienda 1], debido a las siguientes razones:\n",
        "\n",
        "Posee el mayor ingreso total, lo que indica una base de clientes sólida y alto volumen de ventas.\n",
        "\n",
        "Tiene categorías de productos alineadas con el tipo de producto que ofrece el Sr. Juan.\n",
        "\n",
        "Sus clientes otorgan altas calificaciones promedio, lo cual sugiere una buena experiencia de compra.\n",
        "\n",
        "El producto más vendido en esta tienda tiene relación con el que ofrece el Sr. Juan.\n",
        "\n",
        "Los costos de envío promedio son razonables, permitiendo una mayor competitividad en el precio final.\n",
        "\n",
        "Aunque otras tiendas también presentan fortalezas,Tienda 1 destaca por ofrecer el mejor equilibrio entre volumen de ventas, satisfacción del cliente y costos logísticos.\n"
      ],
      "metadata": {
        "id": "4p9qDJzltEuW"
      }
    },
    {
      "cell_type": "code",
      "source": [],
      "metadata": {
        "id": "K91KsEoatENF"
      },
      "execution_count": null,
      "outputs": []
    }
  ]
}